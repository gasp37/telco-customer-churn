{
 "cells": [
  {
   "cell_type": "code",
   "execution_count": 1,
   "metadata": {},
   "outputs": [],
   "source": [
    "from pyspark import SparkContext\n",
    "from pyspark.sql import SparkSession"
   ]
  },
  {
   "cell_type": "code",
   "execution_count": 2,
   "metadata": {},
   "outputs": [],
   "source": [
    "sc = SparkContext(appName='teleco-customer-churn')\n",
    "spark = SparkSession.builder.getOrCreate()"
   ]
  },
  {
   "attachments": {},
   "cell_type": "markdown",
   "metadata": {},
   "source": [
    "This notebook will work more as a guide to help us develop the script that will run on GCP, and since we will run it localy, I'll just grab a sample of around 1000 records, so we can do it faster."
   ]
  },
  {
   "cell_type": "code",
   "execution_count": 3,
   "metadata": {},
   "outputs": [],
   "source": [
    "customers_table = spark.read.csv('../data/WA_Fn-UseC_-Telco-Customer-Churn.csv', header='true', inferSchema='true')\n",
    "customers_table_sample = customers_table.sample(withReplacement=False, fraction=0.15, seed=42)"
   ]
  },
  {
   "cell_type": "code",
   "execution_count": 4,
   "metadata": {},
   "outputs": [
    {
     "data": {
      "text/plain": [
       "1102"
      ]
     },
     "execution_count": 4,
     "metadata": {},
     "output_type": "execute_result"
    }
   ],
   "source": [
    "customers_table_sample.count()"
   ]
  },
  {
   "attachments": {},
   "cell_type": "markdown",
   "metadata": {},
   "source": [
    "We can start by applying the same steps we did on the analysis notebook to treat missing values and standardize column names."
   ]
  },
  {
   "cell_type": "code",
   "execution_count": 5,
   "metadata": {},
   "outputs": [],
   "source": [
    "customers_table_sample = customers_table_sample.withColumnRenamed('gender', 'Gender').withColumnRenamed('tenure', 'Tenure').withColumnRenamed('customerId', 'CustomerId')\n",
    "customers_table_sample = customers_table_sample.replace(subset='TotalCharges', to_replace=' ', value='0.00')\n",
    "customers_table_sample = customers_table_sample.withColumn('TotalCharges', customers_table_sample.TotalCharges.cast('double'))"
   ]
  },
  {
   "cell_type": "code",
   "execution_count": 6,
   "metadata": {},
   "outputs": [
    {
     "name": "stdout",
     "output_type": "stream",
     "text": [
      "+----------+------+-------------+-------+----------+------+------------+----------------+---------------+-------------------+-------------------+-------------------+-------------------+-------------------+-------------------+--------------+----------------+--------------------+--------------+------------+-----+\n",
      "|CustomerId|Gender|SeniorCitizen|Partner|Dependents|Tenure|PhoneService|   MultipleLines|InternetService|     OnlineSecurity|       OnlineBackup|   DeviceProtection|        TechSupport|        StreamingTV|    StreamingMovies|      Contract|PaperlessBilling|       PaymentMethod|MonthlyCharges|TotalCharges|Churn|\n",
      "+----------+------+-------------+-------+----------+------+------------+----------------+---------------+-------------------+-------------------+-------------------+-------------------+-------------------+-------------------+--------------+----------------+--------------------+--------------+------------+-----+\n",
      "|6713-OKOMC|Female|            0|     No|        No|    10|          No|No phone service|            DSL|                Yes|                 No|                 No|                 No|                 No|                 No|Month-to-month|              No|        Mailed check|         29.75|       301.9|   No|\n",
      "|8191-XWSZG|Female|            0|     No|        No|    52|         Yes|              No|             No|No internet service|No internet service|No internet service|No internet service|No internet service|No internet service|      One year|              No|        Mailed check|         20.65|     1022.95|   No|\n",
      "|4190-MFLUW|Female|            0|    Yes|       Yes|    10|         Yes|              No|            DSL|                 No|                 No|                Yes|                Yes|                 No|                 No|Month-to-month|              No|Credit card (auto...|          55.2|      528.35|  Yes|\n",
      "|7639-LIAYI|  Male|            0|     No|        No|    52|         Yes|             Yes|            DSL|                Yes|                 No|                 No|                Yes|                Yes|                Yes|      Two year|             Yes|Credit card (auto...|         79.75|      4217.8|   No|\n",
      "|8012-SOUDQ|Female|            1|     No|        No|    43|         Yes|             Yes|    Fiber optic|                 No|                Yes|                 No|                 No|                Yes|                 No|Month-to-month|             Yes|    Electronic check|         90.25|     3838.75|   No|\n",
      "|3957-SQXML|Female|            0|    Yes|       Yes|    34|         Yes|             Yes|             No|No internet service|No internet service|No internet service|No internet service|No internet service|No internet service|      Two year|              No|Credit card (auto...|         24.95|       894.3|   No|\n",
      "|0557-ASKVU|Female|            0|    Yes|       Yes|    18|         Yes|              No|            DSL|                 No|                 No|                Yes|                Yes|                 No|                 No|      One year|             Yes|Credit card (auto...|          54.4|       957.1|   No|\n",
      "|8627-ZYGSZ|  Male|            0|    Yes|        No|    47|         Yes|             Yes|    Fiber optic|                 No|                Yes|                 No|                 No|                 No|                 No|      One year|             Yes|    Electronic check|          78.9|     3650.35|   No|\n",
      "|1891-QRQSA|  Male|            1|    Yes|       Yes|    64|         Yes|             Yes|    Fiber optic|                Yes|                 No|                Yes|                Yes|                Yes|                Yes|      Two year|             Yes|Bank transfer (au...|         111.6|      7099.0|   No|\n",
      "|3887-PBQAO|Female|            0|    Yes|       Yes|    45|         Yes|             Yes|             No|No internet service|No internet service|No internet service|No internet service|No internet service|No internet service|      One year|             Yes|Credit card (auto...|          25.9|      1216.6|   No|\n",
      "|2796-NNUFI|Female|            0|    Yes|       Yes|    46|         Yes|              No|             No|No internet service|No internet service|No internet service|No internet service|No internet service|No internet service|      Two year|             Yes|        Mailed check|         19.95|       927.1|   No|\n",
      "|4767-HZZHQ|  Male|            0|    Yes|       Yes|    30|         Yes|              No|    Fiber optic|                 No|                Yes|                Yes|                 No|                 No|                 No|Month-to-month|              No|Bank transfer (au...|         82.05|      2570.2|   No|\n",
      "|5386-THSLQ|Female|            1|    Yes|        No|    66|          No|No phone service|            DSL|                 No|                Yes|                Yes|                 No|                Yes|                 No|      One year|              No|Bank transfer (au...|         45.55|     3027.25|   No|\n",
      "|6180-YBIQI|  Male|            0|     No|        No|     5|          No|No phone service|            DSL|                 No|                 No|                 No|                 No|                 No|                 No|Month-to-month|              No|        Mailed check|          24.3|       100.2|   No|\n",
      "|6728-DKUCO|Female|            0|    Yes|       Yes|    72|         Yes|             Yes|    Fiber optic|                Yes|                Yes|                 No|                 No|                Yes|                Yes|      One year|             Yes|    Electronic check|        104.15|     7303.05|   No|\n",
      "|2848-YXSMW|  Male|            0|    Yes|       Yes|    72|         Yes|              No|             No|No internet service|No internet service|No internet service|No internet service|No internet service|No internet service|      Two year|              No|Credit card (auto...|          19.4|     1363.25|   No|\n",
      "|0404-SWRVG|  Male|            0|     No|        No|     3|         Yes|             Yes|    Fiber optic|                 No|                 No|                 No|                 No|                 No|                 No|Month-to-month|             Yes|    Electronic check|          74.4|      229.55|  Yes|\n",
      "|3930-ZGWVE|  Male|            0|     No|        No|     1|         Yes|              No|             No|No internet service|No internet service|No internet service|No internet service|No internet service|No internet service|Month-to-month|              No|        Mailed check|         19.75|       19.75|   No|\n",
      "|2876-GZYZC|Female|            0|     No|        No|    13|         Yes|             Yes|    Fiber optic|                 No|                 No|                 No|                 No|                 No|                Yes|Month-to-month|             Yes|    Electronic check|         85.95|     1215.65|   No|\n",
      "|6217-KDYWC|  Male|            0|     No|       Yes|    57|         Yes|              No|             No|No internet service|No internet service|No internet service|No internet service|No internet service|No internet service|      Two year|             Yes|        Mailed check|          19.6|     1170.55|   No|\n",
      "+----------+------+-------------+-------+----------+------+------------+----------------+---------------+-------------------+-------------------+-------------------+-------------------+-------------------+-------------------+--------------+----------------+--------------------+--------------+------------+-----+\n",
      "only showing top 20 rows\n",
      "\n"
     ]
    }
   ],
   "source": [
    "customers_table_sample.show()"
   ]
  },
  {
   "cell_type": "code",
   "execution_count": 7,
   "metadata": {},
   "outputs": [
    {
     "data": {
      "text/plain": [
       "DataFrame[CustomerId: string, Gender: string, SeniorCitizen: int, Partner: string, Dependents: string, Tenure: int, PhoneService: string, MultipleLines: string, InternetService: string, OnlineSecurity: string, OnlineBackup: string, DeviceProtection: string, TechSupport: string, StreamingTV: string, StreamingMovies: string, Contract: string, PaperlessBilling: string, PaymentMethod: string, MonthlyCharges: double, TotalCharges: double, Churn: string]"
      ]
     },
     "execution_count": 7,
     "metadata": {},
     "output_type": "execute_result"
    }
   ],
   "source": [
    "customers_table_sample.distinct()"
   ]
  },
  {
   "attachments": {},
   "cell_type": "markdown",
   "metadata": {},
   "source": [
    "### Pre-processing\n",
    "---\n",
    "First, we'll drop de Id column, since it doesn't present any predictive value. Then we'll convert the categorical string variables into numeric variables."
   ]
  },
  {
   "cell_type": "code",
   "execution_count": 8,
   "metadata": {},
   "outputs": [],
   "source": [
    "customers_table_sample = customers_table_sample.drop('CustomerId')"
   ]
  },
  {
   "cell_type": "code",
   "execution_count": 9,
   "metadata": {},
   "outputs": [],
   "source": [
    "from pyspark.ml.feature import StringIndexer\n",
    "from pyspark.ml.classification import LogisticRegression"
   ]
  },
  {
   "cell_type": "code",
   "execution_count": 43,
   "metadata": {},
   "outputs": [
    {
     "name": "stdout",
     "output_type": "stream",
     "text": [
      "+-------------+------+--------------+------------+------+-------+----------+------------+-------------+---------------+--------------+------------+----------------+-----------+-----------+---------------+--------+----------------+-------------+-----+\n",
      "|SeniorCitizen|Tenure|MonthlyCharges|TotalCharges|Gender|Partner|Dependents|PhoneService|MultipleLines|InternetService|OnlineSecurity|OnlineBackup|DeviceProtection|TechSupport|StreamingTV|StreamingMovies|Contract|PaperlessBilling|PaymentMethod|Churn|\n",
      "+-------------+------+--------------+------------+------+-------+----------+------------+-------------+---------------+--------------+------------+----------------+-----------+-----------+---------------+--------+----------------+-------------+-----+\n",
      "|            0|    10|         29.75|       301.9|   0.0|    0.0|       0.0|         1.0|          2.0|            1.0|           1.0|         0.0|             0.0|        0.0|        1.0|            0.0|     0.0|             1.0|          3.0|  0.0|\n",
      "|            0|    52|         20.65|     1022.95|   0.0|    0.0|       0.0|         0.0|          0.0|            2.0|           2.0|         2.0|             2.0|        2.0|        2.0|            2.0|     2.0|             1.0|          3.0|  0.0|\n",
      "|            0|    10|          55.2|      528.35|   0.0|    1.0|       1.0|         0.0|          0.0|            1.0|           0.0|         0.0|             1.0|        1.0|        1.0|            0.0|     0.0|             1.0|          1.0|  1.0|\n",
      "|            0|    52|         79.75|      4217.8|   1.0|    0.0|       0.0|         0.0|          1.0|            1.0|           1.0|         0.0|             0.0|        1.0|        0.0|            1.0|     1.0|             0.0|          1.0|  0.0|\n",
      "|            1|    43|         90.25|     3838.75|   0.0|    0.0|       0.0|         0.0|          1.0|            0.0|           0.0|         1.0|             0.0|        0.0|        0.0|            0.0|     0.0|             0.0|          0.0|  0.0|\n",
      "|            0|    34|         24.95|       894.3|   0.0|    1.0|       1.0|         0.0|          1.0|            2.0|           2.0|         2.0|             2.0|        2.0|        2.0|            2.0|     1.0|             1.0|          1.0|  0.0|\n",
      "|            0|    18|          54.4|       957.1|   0.0|    1.0|       1.0|         0.0|          0.0|            1.0|           0.0|         0.0|             1.0|        1.0|        1.0|            0.0|     2.0|             0.0|          1.0|  0.0|\n",
      "|            0|    47|          78.9|     3650.35|   1.0|    1.0|       0.0|         0.0|          1.0|            0.0|           0.0|         1.0|             0.0|        0.0|        1.0|            0.0|     2.0|             0.0|          0.0|  0.0|\n",
      "|            1|    64|         111.6|      7099.0|   1.0|    1.0|       1.0|         0.0|          1.0|            0.0|           1.0|         0.0|             1.0|        1.0|        0.0|            1.0|     1.0|             0.0|          2.0|  0.0|\n",
      "|            0|    45|          25.9|      1216.6|   0.0|    1.0|       1.0|         0.0|          1.0|            2.0|           2.0|         2.0|             2.0|        2.0|        2.0|            2.0|     2.0|             0.0|          1.0|  0.0|\n",
      "|            0|    46|         19.95|       927.1|   0.0|    1.0|       1.0|         0.0|          0.0|            2.0|           2.0|         2.0|             2.0|        2.0|        2.0|            2.0|     1.0|             0.0|          3.0|  0.0|\n",
      "|            0|    30|         82.05|      2570.2|   1.0|    1.0|       1.0|         0.0|          0.0|            0.0|           0.0|         1.0|             1.0|        0.0|        1.0|            0.0|     0.0|             1.0|          2.0|  0.0|\n",
      "|            1|    66|         45.55|     3027.25|   0.0|    1.0|       0.0|         1.0|          2.0|            1.0|           0.0|         1.0|             1.0|        0.0|        0.0|            0.0|     2.0|             1.0|          2.0|  0.0|\n",
      "|            0|     5|          24.3|       100.2|   1.0|    0.0|       0.0|         1.0|          2.0|            1.0|           0.0|         0.0|             0.0|        0.0|        1.0|            0.0|     0.0|             1.0|          3.0|  0.0|\n",
      "|            0|    72|        104.15|     7303.05|   0.0|    1.0|       1.0|         0.0|          1.0|            0.0|           1.0|         1.0|             0.0|        0.0|        0.0|            1.0|     2.0|             0.0|          0.0|  0.0|\n",
      "|            0|    72|          19.4|     1363.25|   1.0|    1.0|       1.0|         0.0|          0.0|            2.0|           2.0|         2.0|             2.0|        2.0|        2.0|            2.0|     1.0|             1.0|          1.0|  0.0|\n",
      "|            0|     3|          74.4|      229.55|   1.0|    0.0|       0.0|         0.0|          1.0|            0.0|           0.0|         0.0|             0.0|        0.0|        1.0|            0.0|     0.0|             0.0|          0.0|  1.0|\n",
      "|            0|     1|         19.75|       19.75|   1.0|    0.0|       0.0|         0.0|          0.0|            2.0|           2.0|         2.0|             2.0|        2.0|        2.0|            2.0|     0.0|             1.0|          3.0|  0.0|\n",
      "|            0|    13|         85.95|     1215.65|   0.0|    0.0|       0.0|         0.0|          1.0|            0.0|           0.0|         0.0|             0.0|        0.0|        1.0|            1.0|     0.0|             0.0|          0.0|  0.0|\n",
      "|            0|    57|          19.6|     1170.55|   1.0|    0.0|       1.0|         0.0|          0.0|            2.0|           2.0|         2.0|             2.0|        2.0|        2.0|            2.0|     1.0|             0.0|          3.0|  0.0|\n",
      "+-------------+------+--------------+------------+------+-------+----------+------------+-------------+---------------+--------------+------------+----------------+-----------+-----------+---------------+--------+----------------+-------------+-----+\n",
      "only showing top 20 rows\n",
      "\n"
     ]
    }
   ],
   "source": [
    "string_variables = [variable[0] for variable in customers_table_sample.dtypes if variable[1] == 'string']\n",
    "output_string_variables = [variable+'_numeric' for variable in string_variables]\n",
    "rename_columns_dic = {output_string_variables[index]:string_variables[index] for index in range(len(string_variables))}\n",
    "\n",
    "indexer_model = StringIndexer(inputCols=string_variables, outputCols=output_string_variables)\n",
    "indexer_fitted = indexer_model.fit(customers_table_sample)\n",
    "numeric_customers_table = indexer_fitted.transform(customers_table_sample)\n",
    "\n",
    "numeric_customers_table = numeric_customers_table.drop(*string_variables)\n",
    "numeric_customers_table = numeric_customers_table.withColumnsRenamed(rename_columns_dic)\n",
    "\n",
    "numeric_customers_table.show()"
   ]
  },
  {
   "cell_type": "code",
   "execution_count": 24,
   "metadata": {},
   "outputs": [
    {
     "data": {
      "text/plain": [
       "[('SeniorCitizen', 'int'),\n",
       " ('Tenure', 'int'),\n",
       " ('MonthlyCharges', 'double'),\n",
       " ('TotalCharges', 'double'),\n",
       " ('Gender', 'double'),\n",
       " ('Partner', 'double'),\n",
       " ('Dependents', 'double'),\n",
       " ('PhoneService', 'double'),\n",
       " ('MultipleLines', 'double'),\n",
       " ('InternetService', 'double'),\n",
       " ('OnlineSecurity', 'double'),\n",
       " ('OnlineBackup', 'double'),\n",
       " ('DeviceProtection', 'double'),\n",
       " ('TechSupport', 'double'),\n",
       " ('StreamingTV', 'double'),\n",
       " ('StreamingMovies', 'double'),\n",
       " ('Contract', 'double'),\n",
       " ('PaperlessBilling', 'double'),\n",
       " ('PaymentMethod', 'double'),\n",
       " ('Churn', 'double')]"
      ]
     },
     "execution_count": 24,
     "metadata": {},
     "output_type": "execute_result"
    }
   ],
   "source": [
    "numeric_customers_table.dtypes"
   ]
  },
  {
   "attachments": {},
   "cell_type": "markdown",
   "metadata": {},
   "source": [
    "Cool, we got all the variables set as numeric values. We will now create our first model so we can use it as a baseline. I don't expect it to be the most accurate, but after that we can dig more into other pre-processing techniques."
   ]
  },
  {
   "attachments": {},
   "cell_type": "markdown",
   "metadata": {},
   "source": [
    "Before we can create our model, we need to do a train-test split. I won't be using RandomSplit() as it presents some unstable results. [You can read about it here](https://sergei-ivanov.medium.com/why-you-should-not-use-randomsplit-in-pyspark-to-split-data-into-train-and-test-58576d539a36). Instead, we'll create a column with random values and filter it."
   ]
  },
  {
   "cell_type": "code",
   "execution_count": 48,
   "metadata": {},
   "outputs": [],
   "source": [
    "from pyspark.sql.functions import rand\n",
    "from pyspark.ml.feature import VectorAssembler"
   ]
  },
  {
   "cell_type": "code",
   "execution_count": 45,
   "metadata": {},
   "outputs": [],
   "source": [
    "numeric_customers_table = numeric_customers_table.withColumn('train_test_index', rand(seed=42))\n",
    "train_table = numeric_customers_table.filter(numeric_customers_table.train_test_index <= 0.7)\n",
    "test_table = numeric_customers_table.filter(numeric_customers_table.train_test_index > 0.7)\n",
    "train_table = train_table.drop('train_test_index')\n",
    "test_table = test_table.drop('train_test_index')"
   ]
  },
  {
   "cell_type": "code",
   "execution_count": 46,
   "metadata": {},
   "outputs": [
    {
     "name": "stdout",
     "output_type": "stream",
     "text": [
      "train rows: 815\n",
      "train rows: 287\n"
     ]
    }
   ],
   "source": [
    "print(f'train rows: {train_table.count()}\\ntrain rows: {test_table.count()}')"
   ]
  },
  {
   "cell_type": "code",
   "execution_count": 49,
   "metadata": {},
   "outputs": [
    {
     "data": {
      "text/plain": [
       "['SeniorCitizen',\n",
       " 'Tenure',\n",
       " 'MonthlyCharges',\n",
       " 'TotalCharges',\n",
       " 'Gender',\n",
       " 'Partner',\n",
       " 'Dependents',\n",
       " 'PhoneService',\n",
       " 'MultipleLines',\n",
       " 'InternetService',\n",
       " 'OnlineSecurity',\n",
       " 'OnlineBackup',\n",
       " 'DeviceProtection',\n",
       " 'TechSupport',\n",
       " 'StreamingTV',\n",
       " 'StreamingMovies',\n",
       " 'Contract',\n",
       " 'PaperlessBilling',\n",
       " 'PaymentMethod']"
      ]
     },
     "execution_count": 49,
     "metadata": {},
     "output_type": "execute_result"
    }
   ],
   "source": [
    "features_cols = train_table.drop('Churn').columns\n",
    "features_cols"
   ]
  },
  {
   "cell_type": "code",
   "execution_count": 56,
   "metadata": {},
   "outputs": [
    {
     "data": {
      "text/plain": [
       "[Row(SeniorCitizen=0, Tenure=10, MonthlyCharges=29.75, TotalCharges=301.9, Gender=0.0, Partner=0.0, Dependents=0.0, PhoneService=1.0, MultipleLines=2.0, InternetService=1.0, OnlineSecurity=1.0, OnlineBackup=0.0, DeviceProtection=0.0, TechSupport=0.0, StreamingTV=1.0, StreamingMovies=0.0, Contract=0.0, PaperlessBilling=1.0, PaymentMethod=3.0, Churn=0.0)]"
      ]
     },
     "execution_count": 56,
     "metadata": {},
     "output_type": "execute_result"
    }
   ],
   "source": [
    "train_table.head(1)"
   ]
  },
  {
   "cell_type": "code",
   "execution_count": 65,
   "metadata": {},
   "outputs": [
    {
     "name": "stdout",
     "output_type": "stream",
     "text": [
      "+-----+-------------------------------------------------------------------------------------+\n",
      "|Churn|features                                                                             |\n",
      "+-----+-------------------------------------------------------------------------------------+\n",
      "|0.0  |(19,[1,2,3,7,8,9,10,14,17,18],[10.0,29.75,301.9,1.0,2.0,1.0,1.0,1.0,1.0,3.0])        |\n",
      "|0.0  |[0.0,52.0,20.65,1022.95,0.0,0.0,0.0,0.0,0.0,2.0,2.0,2.0,2.0,2.0,2.0,2.0,2.0,1.0,3.0] |\n",
      "|0.0  |(19,[1,2,3,4,8,9,10,13,15,16,18],[52.0,79.75,4217.8,1.0,1.0,1.0,1.0,1.0,1.0,1.0,1.0])|\n",
      "|0.0  |(19,[0,1,2,3,8,11],[1.0,43.0,90.25,3838.75,1.0,1.0])                                 |\n",
      "|0.0  |[0.0,34.0,24.95,894.3,0.0,1.0,1.0,0.0,1.0,2.0,2.0,2.0,2.0,2.0,2.0,2.0,1.0,1.0,1.0]   |\n",
      "|0.0  |(19,[1,2,3,4,5,8,11,14,16],[47.0,78.9,3650.35,1.0,1.0,1.0,1.0,1.0,2.0])              |\n",
      "|0.0  |[0.0,46.0,19.95,927.1,0.0,1.0,1.0,0.0,0.0,2.0,2.0,2.0,2.0,2.0,2.0,2.0,1.0,0.0,3.0]   |\n",
      "|0.0  |(19,[1,2,3,4,5,6,11,12,14,17,18],[30.0,82.05,2570.2,1.0,1.0,1.0,1.0,1.0,1.0,1.0,2.0])|\n",
      "|0.0  |[1.0,66.0,45.55,3027.25,0.0,1.0,0.0,1.0,2.0,1.0,0.0,1.0,1.0,0.0,0.0,0.0,2.0,1.0,2.0] |\n",
      "|1.0  |(19,[1,2,3,4,8,14],[3.0,74.4,229.55,1.0,1.0,1.0])                                    |\n",
      "|0.0  |[0.0,1.0,19.75,19.75,1.0,0.0,0.0,0.0,0.0,2.0,2.0,2.0,2.0,2.0,2.0,2.0,0.0,1.0,3.0]    |\n",
      "|0.0  |(19,[1,2,3,8,14,15],[13.0,85.95,1215.65,1.0,1.0,1.0])                                |\n",
      "|1.0  |(19,[1,2,3,8,9,10,13,14,15,17],[8.0,71.15,563.65,1.0,1.0,1.0,1.0,1.0,1.0,1.0])       |\n",
      "|1.0  |(19,[1,2,3,5,8,10,14,17],[20.0,82.4,1592.35,1.0,1.0,1.0,1.0,1.0])                    |\n",
      "|0.0  |(19,[1,2,3,5,6,8,11,12,15,18],[15.0,105.35,1559.25,1.0,1.0,1.0,1.0,1.0,1.0,2.0])     |\n",
      "|1.0  |(19,[1,2,3,5,7,8,9,14],[1.0,24.8,24.8,1.0,1.0,2.0,1.0,1.0])                          |\n",
      "|0.0  |[0.0,59.0,19.3,1192.7,1.0,1.0,1.0,0.0,0.0,2.0,2.0,2.0,2.0,2.0,2.0,2.0,1.0,1.0,1.0]   |\n",
      "|0.0  |(19,[1,2,3,7,8,9,13,14,16,18],[10.0,29.6,299.05,1.0,2.0,1.0,1.0,1.0,1.0,3.0])        |\n",
      "|0.0  |(19,[0,1,2,3,4,10,14,17],[1.0,4.0,75.35,273.4,1.0,1.0,1.0,1.0])                      |\n",
      "|1.0  |(19,[0,1,2,3,4,7,8,9,12,14,15],[1.0,3.0,41.15,132.2,1.0,1.0,2.0,1.0,1.0,1.0,1.0])    |\n",
      "+-----+-------------------------------------------------------------------------------------+\n",
      "only showing top 20 rows\n",
      "\n"
     ]
    }
   ],
   "source": [
    "vecAssembler = VectorAssembler(inputCols=features_cols, outputCol='features')\n",
    "vectorized_table = vecAssembler.transform(train_table)\n",
    "vectorized_table = vectorized_table.drop(*features_cols)\n",
    "vectorized_table.show(truncate=False)"
   ]
  },
  {
   "cell_type": "code",
   "execution_count": null,
   "metadata": {},
   "outputs": [],
   "source": [
    "def create_labeled_point(row):''\n",
    "    labled_point = (row['Churn'], Vectors.dense([row['']]))"
   ]
  },
  {
   "cell_type": "code",
   "execution_count": 39,
   "metadata": {},
   "outputs": [],
   "source": [
    "y_train = train_table.select('Churn')\n",
    "y_test = test_table.select('Churn')\n",
    "x_train = train_table.drop('train_text_index')\n",
    "x_test = test_table.drop('Churn', 'train_text_index')"
   ]
  },
  {
   "cell_type": "code",
   "execution_count": 66,
   "metadata": {},
   "outputs": [],
   "source": [
    "lr_base_model = LogisticRegression(labelCol='Churn')\n",
    "lr_trained_model = lr_base_model.fit(vectorized_table)"
   ]
  },
  {
   "cell_type": "code",
   "execution_count": 68,
   "metadata": {},
   "outputs": [
    {
     "data": {
      "text/plain": [
       "0.8098159509202454"
      ]
     },
     "execution_count": 68,
     "metadata": {},
     "output_type": "execute_result"
    }
   ],
   "source": [
    "lr_trained_model.summary.accuracy"
   ]
  }
 ],
 "metadata": {
  "kernelspec": {
   "display_name": "Python 3",
   "language": "python",
   "name": "python3"
  },
  "language_info": {
   "codemirror_mode": {
    "name": "ipython",
    "version": 3
   },
   "file_extension": ".py",
   "mimetype": "text/x-python",
   "name": "python",
   "nbconvert_exporter": "python",
   "pygments_lexer": "ipython3",
   "version": "3.9.5"
  },
  "orig_nbformat": 4
 },
 "nbformat": 4,
 "nbformat_minor": 2
}
