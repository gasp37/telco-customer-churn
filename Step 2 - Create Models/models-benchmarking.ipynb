{
 "cells": [
  {
   "cell_type": "code",
   "execution_count": 1,
   "metadata": {},
   "outputs": [],
   "source": [
    "from pyspark import SparkContext\n",
    "from pyspark.sql import SparkSession"
   ]
  },
  {
   "cell_type": "code",
   "execution_count": 2,
   "metadata": {},
   "outputs": [],
   "source": [
    "sc = SparkContext(appName='teleco-customer-churn')\n",
    "spark = SparkSession.builder.getOrCreate()"
   ]
  },
  {
   "attachments": {},
   "cell_type": "markdown",
   "metadata": {},
   "source": [
    "This notebook will work more as a guide to help us develop the script that will run on GCP, and since we will run it localy, I'll just grab a sample of around 1000 records, so we can do it faster."
   ]
  },
  {
   "cell_type": "code",
   "execution_count": 8,
   "metadata": {},
   "outputs": [],
   "source": [
    "customers_table = spark.read.csv('../data/WA_Fn-UseC_-Telco-Customer-Churn.csv', header='true', inferSchema='true')\n",
    "customers_table_sample = customers_table.sample(withReplacement=False, fraction=0.15, seed=42)"
   ]
  },
  {
   "cell_type": "code",
   "execution_count": 9,
   "metadata": {},
   "outputs": [
    {
     "data": {
      "text/plain": [
       "1102"
      ]
     },
     "execution_count": 9,
     "metadata": {},
     "output_type": "execute_result"
    }
   ],
   "source": [
    "customers_table_sample.count()"
   ]
  },
  {
   "attachments": {},
   "cell_type": "markdown",
   "metadata": {},
   "source": [
    "We can start by applying the same steps we did on the analysis notebook to treat missing values and standardize column names."
   ]
  },
  {
   "cell_type": "code",
   "execution_count": 10,
   "metadata": {},
   "outputs": [],
   "source": [
    "customers_table_sample = customers_table_sample.withColumnRenamed('gender', 'Gender').withColumnRenamed('tenure', 'Tenure').withColumnRenamed('customerId', 'CustomerId')\n",
    "customers_table_sample = customers_table_sample.replace(subset='TotalCharges', to_replace=' ', value='0.00')\n",
    "customers_table_sample = customers_table_sample.withColumn('TotalCharges', customers_table_sample.TotalCharges.cast('double'))"
   ]
  },
  {
   "cell_type": "code",
   "execution_count": 12,
   "metadata": {},
   "outputs": [
    {
     "name": "stdout",
     "output_type": "stream",
     "text": [
      "+----------+------+-------------+-------+----------+------+------------+----------------+---------------+-------------------+-------------------+-------------------+-------------------+-------------------+-------------------+--------------+----------------+--------------------+--------------+------------+-----+\n",
      "|CustomerId|Gender|SeniorCitizen|Partner|Dependents|Tenure|PhoneService|   MultipleLines|InternetService|     OnlineSecurity|       OnlineBackup|   DeviceProtection|        TechSupport|        StreamingTV|    StreamingMovies|      Contract|PaperlessBilling|       PaymentMethod|MonthlyCharges|TotalCharges|Churn|\n",
      "+----------+------+-------------+-------+----------+------+------------+----------------+---------------+-------------------+-------------------+-------------------+-------------------+-------------------+-------------------+--------------+----------------+--------------------+--------------+------------+-----+\n",
      "|6713-OKOMC|Female|            0|     No|        No|    10|          No|No phone service|            DSL|                Yes|                 No|                 No|                 No|                 No|                 No|Month-to-month|              No|        Mailed check|         29.75|       301.9|   No|\n",
      "|8191-XWSZG|Female|            0|     No|        No|    52|         Yes|              No|             No|No internet service|No internet service|No internet service|No internet service|No internet service|No internet service|      One year|              No|        Mailed check|         20.65|     1022.95|   No|\n",
      "|4190-MFLUW|Female|            0|    Yes|       Yes|    10|         Yes|              No|            DSL|                 No|                 No|                Yes|                Yes|                 No|                 No|Month-to-month|              No|Credit card (auto...|          55.2|      528.35|  Yes|\n",
      "|7639-LIAYI|  Male|            0|     No|        No|    52|         Yes|             Yes|            DSL|                Yes|                 No|                 No|                Yes|                Yes|                Yes|      Two year|             Yes|Credit card (auto...|         79.75|      4217.8|   No|\n",
      "|8012-SOUDQ|Female|            1|     No|        No|    43|         Yes|             Yes|    Fiber optic|                 No|                Yes|                 No|                 No|                Yes|                 No|Month-to-month|             Yes|    Electronic check|         90.25|     3838.75|   No|\n",
      "|3957-SQXML|Female|            0|    Yes|       Yes|    34|         Yes|             Yes|             No|No internet service|No internet service|No internet service|No internet service|No internet service|No internet service|      Two year|              No|Credit card (auto...|         24.95|       894.3|   No|\n",
      "|0557-ASKVU|Female|            0|    Yes|       Yes|    18|         Yes|              No|            DSL|                 No|                 No|                Yes|                Yes|                 No|                 No|      One year|             Yes|Credit card (auto...|          54.4|       957.1|   No|\n",
      "|8627-ZYGSZ|  Male|            0|    Yes|        No|    47|         Yes|             Yes|    Fiber optic|                 No|                Yes|                 No|                 No|                 No|                 No|      One year|             Yes|    Electronic check|          78.9|     3650.35|   No|\n",
      "|1891-QRQSA|  Male|            1|    Yes|       Yes|    64|         Yes|             Yes|    Fiber optic|                Yes|                 No|                Yes|                Yes|                Yes|                Yes|      Two year|             Yes|Bank transfer (au...|         111.6|      7099.0|   No|\n",
      "|3887-PBQAO|Female|            0|    Yes|       Yes|    45|         Yes|             Yes|             No|No internet service|No internet service|No internet service|No internet service|No internet service|No internet service|      One year|             Yes|Credit card (auto...|          25.9|      1216.6|   No|\n",
      "|2796-NNUFI|Female|            0|    Yes|       Yes|    46|         Yes|              No|             No|No internet service|No internet service|No internet service|No internet service|No internet service|No internet service|      Two year|             Yes|        Mailed check|         19.95|       927.1|   No|\n",
      "|4767-HZZHQ|  Male|            0|    Yes|       Yes|    30|         Yes|              No|    Fiber optic|                 No|                Yes|                Yes|                 No|                 No|                 No|Month-to-month|              No|Bank transfer (au...|         82.05|      2570.2|   No|\n",
      "|5386-THSLQ|Female|            1|    Yes|        No|    66|          No|No phone service|            DSL|                 No|                Yes|                Yes|                 No|                Yes|                 No|      One year|              No|Bank transfer (au...|         45.55|     3027.25|   No|\n",
      "|6180-YBIQI|  Male|            0|     No|        No|     5|          No|No phone service|            DSL|                 No|                 No|                 No|                 No|                 No|                 No|Month-to-month|              No|        Mailed check|          24.3|       100.2|   No|\n",
      "|6728-DKUCO|Female|            0|    Yes|       Yes|    72|         Yes|             Yes|    Fiber optic|                Yes|                Yes|                 No|                 No|                Yes|                Yes|      One year|             Yes|    Electronic check|        104.15|     7303.05|   No|\n",
      "|2848-YXSMW|  Male|            0|    Yes|       Yes|    72|         Yes|              No|             No|No internet service|No internet service|No internet service|No internet service|No internet service|No internet service|      Two year|              No|Credit card (auto...|          19.4|     1363.25|   No|\n",
      "|0404-SWRVG|  Male|            0|     No|        No|     3|         Yes|             Yes|    Fiber optic|                 No|                 No|                 No|                 No|                 No|                 No|Month-to-month|             Yes|    Electronic check|          74.4|      229.55|  Yes|\n",
      "|3930-ZGWVE|  Male|            0|     No|        No|     1|         Yes|              No|             No|No internet service|No internet service|No internet service|No internet service|No internet service|No internet service|Month-to-month|              No|        Mailed check|         19.75|       19.75|   No|\n",
      "|2876-GZYZC|Female|            0|     No|        No|    13|         Yes|             Yes|    Fiber optic|                 No|                 No|                 No|                 No|                 No|                Yes|Month-to-month|             Yes|    Electronic check|         85.95|     1215.65|   No|\n",
      "|6217-KDYWC|  Male|            0|     No|       Yes|    57|         Yes|              No|             No|No internet service|No internet service|No internet service|No internet service|No internet service|No internet service|      Two year|             Yes|        Mailed check|          19.6|     1170.55|   No|\n",
      "+----------+------+-------------+-------+----------+------+------------+----------------+---------------+-------------------+-------------------+-------------------+-------------------+-------------------+-------------------+--------------+----------------+--------------------+--------------+------------+-----+\n",
      "only showing top 20 rows\n",
      "\n"
     ]
    }
   ],
   "source": [
    "customers_table_sample.show()"
   ]
  },
  {
   "cell_type": "code",
   "execution_count": 15,
   "metadata": {},
   "outputs": [
    {
     "data": {
      "text/plain": [
       "1102"
      ]
     },
     "execution_count": 15,
     "metadata": {},
     "output_type": "execute_result"
    }
   ],
   "source": [
    "customers_table_sample.distinct()"
   ]
  },
  {
   "attachments": {},
   "cell_type": "markdown",
   "metadata": {},
   "source": [
    "### Pre-processing\n",
    "---\n",
    "First, we'll drop de Id column, since it doesn't present any predictive value. Then we'll convert the categorical string variables into numeric variables."
   ]
  },
  {
   "cell_type": "code",
   "execution_count": 37,
   "metadata": {},
   "outputs": [],
   "source": [
    "customers_table_sample = customers_table_sample.drop('CustomerId')"
   ]
  },
  {
   "cell_type": "code",
   "execution_count": 62,
   "metadata": {},
   "outputs": [],
   "source": [
    "from pyspark.ml.feature import StringIndexer\n",
    "from pyspark.ml.classification import LogisticRegression"
   ]
  },
  {
   "cell_type": "code",
   "execution_count": 59,
   "metadata": {},
   "outputs": [
    {
     "name": "stdout",
     "output_type": "stream",
     "text": [
      "+-------------+------+--------------+------------+------+-------+----------+------------+-------------+---------------+--------------+------------+----------------+-----------+-----------+---------------+--------+----------------+-------------+-----+\n",
      "|SeniorCitizen|Tenure|MonthlyCharges|TotalCharges|Gender|Partner|Dependents|PhoneService|MultipleLines|InternetService|OnlineSecurity|OnlineBackup|DeviceProtection|TechSupport|StreamingTV|StreamingMovies|Contract|PaperlessBilling|PaymentMethod|Churn|\n",
      "+-------------+------+--------------+------------+------+-------+----------+------------+-------------+---------------+--------------+------------+----------------+-----------+-----------+---------------+--------+----------------+-------------+-----+\n",
      "|            0|    10|         29.75|       301.9|   0.0|    0.0|       0.0|         1.0|          2.0|            1.0|           1.0|         0.0|             0.0|        0.0|        1.0|            0.0|     0.0|             1.0|          3.0|  0.0|\n",
      "|            0|    52|         20.65|     1022.95|   0.0|    0.0|       0.0|         0.0|          0.0|            2.0|           2.0|         2.0|             2.0|        2.0|        2.0|            2.0|     2.0|             1.0|          3.0|  0.0|\n",
      "|            0|    10|          55.2|      528.35|   0.0|    1.0|       1.0|         0.0|          0.0|            1.0|           0.0|         0.0|             1.0|        1.0|        1.0|            0.0|     0.0|             1.0|          1.0|  1.0|\n",
      "|            0|    52|         79.75|      4217.8|   1.0|    0.0|       0.0|         0.0|          1.0|            1.0|           1.0|         0.0|             0.0|        1.0|        0.0|            1.0|     1.0|             0.0|          1.0|  0.0|\n",
      "|            1|    43|         90.25|     3838.75|   0.0|    0.0|       0.0|         0.0|          1.0|            0.0|           0.0|         1.0|             0.0|        0.0|        0.0|            0.0|     0.0|             0.0|          0.0|  0.0|\n",
      "|            0|    34|         24.95|       894.3|   0.0|    1.0|       1.0|         0.0|          1.0|            2.0|           2.0|         2.0|             2.0|        2.0|        2.0|            2.0|     1.0|             1.0|          1.0|  0.0|\n",
      "|            0|    18|          54.4|       957.1|   0.0|    1.0|       1.0|         0.0|          0.0|            1.0|           0.0|         0.0|             1.0|        1.0|        1.0|            0.0|     2.0|             0.0|          1.0|  0.0|\n",
      "|            0|    47|          78.9|     3650.35|   1.0|    1.0|       0.0|         0.0|          1.0|            0.0|           0.0|         1.0|             0.0|        0.0|        1.0|            0.0|     2.0|             0.0|          0.0|  0.0|\n",
      "|            1|    64|         111.6|      7099.0|   1.0|    1.0|       1.0|         0.0|          1.0|            0.0|           1.0|         0.0|             1.0|        1.0|        0.0|            1.0|     1.0|             0.0|          2.0|  0.0|\n",
      "|            0|    45|          25.9|      1216.6|   0.0|    1.0|       1.0|         0.0|          1.0|            2.0|           2.0|         2.0|             2.0|        2.0|        2.0|            2.0|     2.0|             0.0|          1.0|  0.0|\n",
      "|            0|    46|         19.95|       927.1|   0.0|    1.0|       1.0|         0.0|          0.0|            2.0|           2.0|         2.0|             2.0|        2.0|        2.0|            2.0|     1.0|             0.0|          3.0|  0.0|\n",
      "|            0|    30|         82.05|      2570.2|   1.0|    1.0|       1.0|         0.0|          0.0|            0.0|           0.0|         1.0|             1.0|        0.0|        1.0|            0.0|     0.0|             1.0|          2.0|  0.0|\n",
      "|            1|    66|         45.55|     3027.25|   0.0|    1.0|       0.0|         1.0|          2.0|            1.0|           0.0|         1.0|             1.0|        0.0|        0.0|            0.0|     2.0|             1.0|          2.0|  0.0|\n",
      "|            0|     5|          24.3|       100.2|   1.0|    0.0|       0.0|         1.0|          2.0|            1.0|           0.0|         0.0|             0.0|        0.0|        1.0|            0.0|     0.0|             1.0|          3.0|  0.0|\n",
      "|            0|    72|        104.15|     7303.05|   0.0|    1.0|       1.0|         0.0|          1.0|            0.0|           1.0|         1.0|             0.0|        0.0|        0.0|            1.0|     2.0|             0.0|          0.0|  0.0|\n",
      "|            0|    72|          19.4|     1363.25|   1.0|    1.0|       1.0|         0.0|          0.0|            2.0|           2.0|         2.0|             2.0|        2.0|        2.0|            2.0|     1.0|             1.0|          1.0|  0.0|\n",
      "|            0|     3|          74.4|      229.55|   1.0|    0.0|       0.0|         0.0|          1.0|            0.0|           0.0|         0.0|             0.0|        0.0|        1.0|            0.0|     0.0|             0.0|          0.0|  1.0|\n",
      "|            0|     1|         19.75|       19.75|   1.0|    0.0|       0.0|         0.0|          0.0|            2.0|           2.0|         2.0|             2.0|        2.0|        2.0|            2.0|     0.0|             1.0|          3.0|  0.0|\n",
      "|            0|    13|         85.95|     1215.65|   0.0|    0.0|       0.0|         0.0|          1.0|            0.0|           0.0|         0.0|             0.0|        0.0|        1.0|            1.0|     0.0|             0.0|          0.0|  0.0|\n",
      "|            0|    57|          19.6|     1170.55|   1.0|    0.0|       1.0|         0.0|          0.0|            2.0|           2.0|         2.0|             2.0|        2.0|        2.0|            2.0|     1.0|             0.0|          3.0|  0.0|\n",
      "+-------------+------+--------------+------------+------+-------+----------+------------+-------------+---------------+--------------+------------+----------------+-----------+-----------+---------------+--------+----------------+-------------+-----+\n",
      "only showing top 20 rows\n",
      "\n"
     ]
    }
   ],
   "source": [
    "string_variables = [variable[0] for variable in customers_table_sample.dtypes if variable[1] == 'string']\n",
    "output_string_variables = [variable+'_numeric' for variable in string_variables]\n",
    "rename_columns_dic = {output_string_variables[index]:string_variables[index] for index in range(len(string_variables))}\n",
    "\n",
    "indexer_model = StringIndexer(inputCols=string_variables, outputCols=output_string_variables)\n",
    "indexer_fitted = indexer_model.fit(customers_table_sample)\n",
    "numeric_customers_table_sample = indexer_fitted.transform(customers_table_sample)\n",
    "\n",
    "numeric_customers_table_sample = numeric_customers_table_sample.drop(*string_variables)\n",
    "numeric_customers_table_sample = numeric_customers_table_sample.withColumnsRenamed(rename_columns_dic)\n",
    "\n",
    "numeric_customers_table_sample.show()"
   ]
  },
  {
   "cell_type": "code",
   "execution_count": 61,
   "metadata": {},
   "outputs": [
    {
     "data": {
      "text/plain": [
       "[('SeniorCitizen', 'int'),\n",
       " ('Tenure', 'int'),\n",
       " ('MonthlyCharges', 'double'),\n",
       " ('TotalCharges', 'double'),\n",
       " ('Gender', 'double'),\n",
       " ('Partner', 'double'),\n",
       " ('Dependents', 'double'),\n",
       " ('PhoneService', 'double'),\n",
       " ('MultipleLines', 'double'),\n",
       " ('InternetService', 'double'),\n",
       " ('OnlineSecurity', 'double'),\n",
       " ('OnlineBackup', 'double'),\n",
       " ('DeviceProtection', 'double'),\n",
       " ('TechSupport', 'double'),\n",
       " ('StreamingTV', 'double'),\n",
       " ('StreamingMovies', 'double'),\n",
       " ('Contract', 'double'),\n",
       " ('PaperlessBilling', 'double'),\n",
       " ('PaymentMethod', 'double'),\n",
       " ('Churn', 'double')]"
      ]
     },
     "execution_count": 61,
     "metadata": {},
     "output_type": "execute_result"
    }
   ],
   "source": [
    "numeric_customers_table_sample.dtypes"
   ]
  },
  {
   "attachments": {},
   "cell_type": "markdown",
   "metadata": {},
   "source": [
    "Cool, we got all the variables set as numeric values. We will now create our first model so we can use it as a baseline. I don't expect it to be the most accurate, but after that we can dig more into other pre-processing techniques."
   ]
  },
  {
   "attachments": {},
   "cell_type": "markdown",
   "metadata": {},
   "source": [
    "Before we can create our model, we need to do a train-test split. Spark doesn't have a easy function to do so (there is RandomSplit() but I don't like the way that it work, [click here to find more](https://sergei-ivanov.medium.com/why-you-should-not-use-randomsplit-in-pyspark-to-split-data-into-train-and-test-58576d539a36)), so we'll have to do it by hand. "
   ]
  },
  {
   "cell_type": "code",
   "execution_count": 81,
   "metadata": {},
   "outputs": [],
   "source": [
    "from random import seed, randint\n",
    "seed(42)\n",
    "train_test_index = randint(0,99)"
   ]
  },
  {
   "cell_type": "code",
   "execution_count": 83,
   "metadata": {},
   "outputs": [
    {
     "ename": "PySparkTypeError",
     "evalue": "[NOT_COLUMN] Argument `col` should be a Column, got int.",
     "output_type": "error",
     "traceback": [
      "\u001b[1;31m---------------------------------------------------------------------------\u001b[0m",
      "\u001b[1;31mPySparkTypeError\u001b[0m                          Traceback (most recent call last)",
      "\u001b[1;32m<ipython-input-83-fc87aa2ef63b>\u001b[0m in \u001b[0;36m<module>\u001b[1;34m\u001b[0m\n\u001b[1;32m----> 1\u001b[1;33m \u001b[0mnumeric_customers_table_sample\u001b[0m\u001b[1;33m.\u001b[0m\u001b[0mwithColumn\u001b[0m\u001b[1;33m(\u001b[0m\u001b[1;34m'train_text_index'\u001b[0m\u001b[1;33m,\u001b[0m \u001b[0mrandint\u001b[0m\u001b[1;33m(\u001b[0m\u001b[1;36m0\u001b[0m\u001b[1;33m,\u001b[0m\u001b[1;36m1\u001b[0m\u001b[1;33m)\u001b[0m\u001b[1;33m)\u001b[0m\u001b[1;33m.\u001b[0m\u001b[0mshow\u001b[0m\u001b[1;33m(\u001b[0m\u001b[1;33m)\u001b[0m\u001b[1;33m\u001b[0m\u001b[1;33m\u001b[0m\u001b[0m\n\u001b[0m",
      "\u001b[1;32mc:\\Users\\gasp3\\AppData\\Local\\Programs\\Python\\Python39\\lib\\site-packages\\pyspark\\sql\\dataframe.py\u001b[0m in \u001b[0;36mwithColumn\u001b[1;34m(self, colName, col)\u001b[0m\n\u001b[0;32m   4783\u001b[0m         \"\"\"\n\u001b[0;32m   4784\u001b[0m         \u001b[1;32mif\u001b[0m \u001b[1;32mnot\u001b[0m \u001b[0misinstance\u001b[0m\u001b[1;33m(\u001b[0m\u001b[0mcol\u001b[0m\u001b[1;33m,\u001b[0m \u001b[0mColumn\u001b[0m\u001b[1;33m)\u001b[0m\u001b[1;33m:\u001b[0m\u001b[1;33m\u001b[0m\u001b[1;33m\u001b[0m\u001b[0m\n\u001b[1;32m-> 4785\u001b[1;33m             raise PySparkTypeError(\n\u001b[0m\u001b[0;32m   4786\u001b[0m                 \u001b[0merror_class\u001b[0m\u001b[1;33m=\u001b[0m\u001b[1;34m\"NOT_COLUMN\"\u001b[0m\u001b[1;33m,\u001b[0m\u001b[1;33m\u001b[0m\u001b[1;33m\u001b[0m\u001b[0m\n\u001b[0;32m   4787\u001b[0m                 \u001b[0mmessage_parameters\u001b[0m\u001b[1;33m=\u001b[0m\u001b[1;33m{\u001b[0m\u001b[1;34m\"arg_name\"\u001b[0m\u001b[1;33m:\u001b[0m \u001b[1;34m\"col\"\u001b[0m\u001b[1;33m,\u001b[0m \u001b[1;34m\"arg_type\"\u001b[0m\u001b[1;33m:\u001b[0m \u001b[0mtype\u001b[0m\u001b[1;33m(\u001b[0m\u001b[0mcol\u001b[0m\u001b[1;33m)\u001b[0m\u001b[1;33m.\u001b[0m\u001b[0m__name__\u001b[0m\u001b[1;33m}\u001b[0m\u001b[1;33m,\u001b[0m\u001b[1;33m\u001b[0m\u001b[1;33m\u001b[0m\u001b[0m\n",
      "\u001b[1;31mPySparkTypeError\u001b[0m: [NOT_COLUMN] Argument `col` should be a Column, got int."
     ]
    }
   ],
   "source": [
    "numeric_customers_table_sample.withColumn('train_text_index', randint(0,1)).show()"
   ]
  },
  {
   "cell_type": "code",
   "execution_count": 68,
   "metadata": {},
   "outputs": [
    {
     "name": "stdout",
     "output_type": "stream",
     "text": [
      "+-------------+------+--------------+------------+------+-------+----------+------------+-------------+---------------+--------------+------------+----------------+-----------+-----------+---------------+--------+----------------+-------------+-----+\n",
      "|SeniorCitizen|Tenure|MonthlyCharges|TotalCharges|Gender|Partner|Dependents|PhoneService|MultipleLines|InternetService|OnlineSecurity|OnlineBackup|DeviceProtection|TechSupport|StreamingTV|StreamingMovies|Contract|PaperlessBilling|PaymentMethod|Churn|\n",
      "+-------------+------+--------------+------------+------+-------+----------+------------+-------------+---------------+--------------+------------+----------------+-----------+-----------+---------------+--------+----------------+-------------+-----+\n",
      "|            0|     0|         73.35|         0.0|   0.0|    1.0|       1.0|         0.0|          1.0|            1.0|           0.0|         1.0|             1.0|        1.0|        0.0|            0.0|     1.0|             1.0|          3.0|  0.0|\n",
      "|            0|     1|         18.85|       18.85|   0.0|    0.0|       0.0|         0.0|          0.0|            2.0|           2.0|         2.0|             2.0|        2.0|        2.0|            2.0|     0.0|             1.0|          0.0|  0.0|\n",
      "|            0|     1|          19.1|        19.1|   0.0|    0.0|       0.0|         0.0|          0.0|            2.0|           2.0|         2.0|             2.0|        2.0|        2.0|            2.0|     0.0|             1.0|          3.0|  0.0|\n",
      "|            0|     1|          19.3|        19.3|   0.0|    0.0|       0.0|         0.0|          0.0|            2.0|           2.0|         2.0|             2.0|        2.0|        2.0|            2.0|     0.0|             1.0|          0.0|  1.0|\n",
      "|            0|     1|          19.4|        19.4|   0.0|    0.0|       0.0|         0.0|          0.0|            2.0|           2.0|         2.0|             2.0|        2.0|        2.0|            2.0|     0.0|             0.0|          3.0|  0.0|\n",
      "|            0|     1|         19.65|       19.65|   0.0|    0.0|       0.0|         0.0|          0.0|            2.0|           2.0|         2.0|             2.0|        2.0|        2.0|            2.0|     0.0|             1.0|          3.0|  0.0|\n",
      "|            0|     1|         19.75|       19.75|   1.0|    0.0|       0.0|         0.0|          0.0|            2.0|           2.0|         2.0|             2.0|        2.0|        2.0|            2.0|     0.0|             1.0|          3.0|  0.0|\n",
      "|            0|     1|          19.9|        19.9|   1.0|    1.0|       1.0|         0.0|          0.0|            2.0|           2.0|         2.0|             2.0|        2.0|        2.0|            2.0|     0.0|             1.0|          3.0|  1.0|\n",
      "|            0|     1|         19.95|       19.95|   0.0|    0.0|       0.0|         0.0|          0.0|            2.0|           2.0|         2.0|             2.0|        2.0|        2.0|            2.0|     0.0|             1.0|          1.0|  0.0|\n",
      "|            0|     1|          20.2|        20.2|   1.0|    0.0|       0.0|         0.0|          0.0|            2.0|           2.0|         2.0|             2.0|        2.0|        2.0|            2.0|     0.0|             1.0|          3.0|  1.0|\n",
      "|            0|     1|         20.25|       20.25|   1.0|    0.0|       1.0|         0.0|          0.0|            2.0|           2.0|         2.0|             2.0|        2.0|        2.0|            2.0|     0.0|             0.0|          3.0|  0.0|\n",
      "|            0|     1|         20.35|       20.35|   0.0|    0.0|       0.0|         0.0|          0.0|            2.0|           2.0|         2.0|             2.0|        2.0|        2.0|            2.0|     0.0|             1.0|          3.0|  0.0|\n",
      "|            0|     1|         20.45|       20.45|   1.0|    0.0|       0.0|         0.0|          0.0|            2.0|           2.0|         2.0|             2.0|        2.0|        2.0|            2.0|     0.0|             1.0|          3.0|  0.0|\n",
      "|            0|     1|          20.5|        20.5|   1.0|    0.0|       0.0|         0.0|          0.0|            2.0|           2.0|         2.0|             2.0|        2.0|        2.0|            2.0|     0.0|             1.0|          3.0|  1.0|\n",
      "|            0|     1|          24.2|        24.2|   1.0|    0.0|       1.0|         1.0|          2.0|            1.0|           0.0|         0.0|             0.0|        0.0|        1.0|            0.0|     0.0|             1.0|          3.0|  0.0|\n",
      "|            0|     1|          24.7|        24.7|   0.0|    0.0|       1.0|         1.0|          2.0|            1.0|           0.0|         0.0|             0.0|        0.0|        1.0|            0.0|     0.0|             1.0|          3.0|  0.0|\n",
      "|            0|     1|          24.8|        24.8|   0.0|    1.0|       0.0|         1.0|          2.0|            1.0|           0.0|         0.0|             0.0|        0.0|        1.0|            0.0|     0.0|             0.0|          0.0|  1.0|\n",
      "|            0|     1|          44.0|        44.0|   0.0|    0.0|       0.0|         0.0|          0.0|            1.0|           0.0|         0.0|             0.0|        0.0|        1.0|            0.0|     0.0|             0.0|          3.0|  0.0|\n",
      "|            0|     1|          44.1|        44.1|   0.0|    0.0|       0.0|         0.0|          0.0|            1.0|           0.0|         0.0|             0.0|        0.0|        1.0|            0.0|     0.0|             0.0|          0.0|  1.0|\n",
      "|            0|     1|          44.6|        44.6|   1.0|    0.0|       0.0|         0.0|          0.0|            1.0|           0.0|         0.0|             0.0|        0.0|        1.0|            0.0|     0.0|             1.0|          3.0|  0.0|\n",
      "+-------------+------+--------------+------------+------+-------+----------+------------+-------------+---------------+--------------+------------+----------------+-----------+-----------+---------------+--------+----------------+-------------+-----+\n",
      "only showing top 20 rows\n",
      "\n"
     ]
    }
   ],
   "source": [
    "train_table, test_table = numeric_customers_table_sample.randomSplit([0.7,0.3], seed=42)\n",
    "train_table.show()"
   ]
  },
  {
   "cell_type": "code",
   "execution_count": 69,
   "metadata": {},
   "outputs": [
    {
     "data": {
      "text/plain": [
       "[Row(SeniorCitizen=1, Tenure=60, MonthlyCharges=101.4, TotalCharges=6176.6, Gender=0.0, Partner=0.0, Dependents=0.0, PhoneService=0.0, MultipleLines=1.0, InternetService=0.0, OnlineSecurity=1.0, OnlineBackup=0.0, DeviceProtection=0.0, TechSupport=0.0, StreamingTV=0.0, StreamingMovies=1.0, Contract=2.0, PaperlessBilling=0.0, PaymentMethod=2.0, Churn=0.0),\n",
       " Row(SeniorCitizen=1, Tenure=62, MonthlyCharges=97.95, TotalCharges=5936.55, Gender=0.0, Partner=1.0, Dependents=0.0, PhoneService=0.0, MultipleLines=1.0, InternetService=0.0, OnlineSecurity=0.0, OnlineBackup=1.0, DeviceProtection=1.0, TechSupport=0.0, StreamingTV=0.0, StreamingMovies=0.0, Contract=2.0, PaperlessBilling=0.0, PaymentMethod=1.0, Churn=0.0),\n",
       " Row(SeniorCitizen=1, Tenure=64, MonthlyCharges=111.6, TotalCharges=7099.0, Gender=1.0, Partner=1.0, Dependents=1.0, PhoneService=0.0, MultipleLines=1.0, InternetService=0.0, OnlineSecurity=1.0, OnlineBackup=0.0, DeviceProtection=1.0, TechSupport=1.0, StreamingTV=0.0, StreamingMovies=1.0, Contract=1.0, PaperlessBilling=0.0, PaymentMethod=2.0, Churn=0.0),\n",
       " Row(SeniorCitizen=1, Tenure=65, MonthlyCharges=53.5, TotalCharges=3517.9, Gender=0.0, Partner=0.0, Dependents=0.0, PhoneService=1.0, MultipleLines=2.0, InternetService=1.0, OnlineSecurity=0.0, OnlineBackup=1.0, DeviceProtection=1.0, TechSupport=0.0, StreamingTV=0.0, StreamingMovies=1.0, Contract=1.0, PaperlessBilling=0.0, PaymentMethod=2.0, Churn=0.0),\n",
       " Row(SeniorCitizen=1, Tenure=66, MonthlyCharges=45.55, TotalCharges=3027.25, Gender=0.0, Partner=1.0, Dependents=0.0, PhoneService=1.0, MultipleLines=2.0, InternetService=1.0, OnlineSecurity=0.0, OnlineBackup=1.0, DeviceProtection=1.0, TechSupport=0.0, StreamingTV=0.0, StreamingMovies=0.0, Contract=2.0, PaperlessBilling=1.0, PaymentMethod=2.0, Churn=0.0),\n",
       " Row(SeniorCitizen=1, Tenure=66, MonthlyCharges=63.85, TotalCharges=4174.35, Gender=0.0, Partner=0.0, Dependents=0.0, PhoneService=0.0, MultipleLines=1.0, InternetService=1.0, OnlineSecurity=1.0, OnlineBackup=1.0, DeviceProtection=0.0, TechSupport=1.0, StreamingTV=1.0, StreamingMovies=0.0, Contract=2.0, PaperlessBilling=0.0, PaymentMethod=1.0, Churn=0.0),\n",
       " Row(SeniorCitizen=1, Tenure=66, MonthlyCharges=79.4, TotalCharges=5154.6, Gender=1.0, Partner=1.0, Dependents=1.0, PhoneService=0.0, MultipleLines=1.0, InternetService=1.0, OnlineSecurity=1.0, OnlineBackup=1.0, DeviceProtection=1.0, TechSupport=1.0, StreamingTV=0.0, StreamingMovies=0.0, Contract=1.0, PaperlessBilling=1.0, PaymentMethod=1.0, Churn=1.0),\n",
       " Row(SeniorCitizen=1, Tenure=67, MonthlyCharges=92.45, TotalCharges=6140.85, Gender=0.0, Partner=0.0, Dependents=0.0, PhoneService=0.0, MultipleLines=0.0, InternetService=0.0, OnlineSecurity=1.0, OnlineBackup=1.0, DeviceProtection=0.0, TechSupport=1.0, StreamingTV=0.0, StreamingMovies=0.0, Contract=1.0, PaperlessBilling=0.0, PaymentMethod=2.0, Churn=0.0),\n",
       " Row(SeniorCitizen=1, Tenure=72, MonthlyCharges=63.1, TotalCharges=4685.55, Gender=1.0, Partner=1.0, Dependents=0.0, PhoneService=1.0, MultipleLines=2.0, InternetService=1.0, OnlineSecurity=1.0, OnlineBackup=1.0, DeviceProtection=1.0, TechSupport=1.0, StreamingTV=0.0, StreamingMovies=1.0, Contract=1.0, PaperlessBilling=0.0, PaymentMethod=2.0, Churn=0.0),\n",
       " Row(SeniorCitizen=1, Tenure=72, MonthlyCharges=106.85, TotalCharges=7677.4, Gender=0.0, Partner=1.0, Dependents=0.0, PhoneService=0.0, MultipleLines=1.0, InternetService=0.0, OnlineSecurity=1.0, OnlineBackup=1.0, DeviceProtection=0.0, TechSupport=0.0, StreamingTV=0.0, StreamingMovies=1.0, Contract=2.0, PaperlessBilling=0.0, PaymentMethod=2.0, Churn=0.0)]"
      ]
     },
     "execution_count": 69,
     "metadata": {},
     "output_type": "execute_result"
    }
   ],
   "source": [
    "test_table.tail(10)"
   ]
  },
  {
   "cell_type": "code",
   "execution_count": null,
   "metadata": {},
   "outputs": [],
   "source": [
    "lr_base_model = LogisticRegression()"
   ]
  }
 ],
 "metadata": {
  "kernelspec": {
   "display_name": "Python 3",
   "language": "python",
   "name": "python3"
  },
  "language_info": {
   "codemirror_mode": {
    "name": "ipython",
    "version": 3
   },
   "file_extension": ".py",
   "mimetype": "text/x-python",
   "name": "python",
   "nbconvert_exporter": "python",
   "pygments_lexer": "ipython3",
   "version": "3.9.5"
  },
  "orig_nbformat": 4
 },
 "nbformat": 4,
 "nbformat_minor": 2
}
